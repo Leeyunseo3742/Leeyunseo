{
 "cells": [
  {
   "cell_type": "code",
   "execution_count": 1,
   "metadata": {},
   "outputs": [],
   "source": [
    "import re\n",
    "from bs4 import BeautifulSoup\n",
    "import urllib.request as req\n",
    "import pandas as pd"
   ]
  },
  {
   "cell_type": "markdown",
   "metadata": {},
   "source": [
    "모듈 설정"
   ]
  },
  {
   "cell_type": "code",
   "execution_count": 2,
   "metadata": {},
   "outputs": [],
   "source": [
    "baseurl = \"https://movie.naver.com/movie/point/af/list.nhn\"\n",
    "\n",
    "res =req.urlopen(baseurl)\n",
    "soup = BeautifulSoup(res,'html.parser')\n",
    "code = soup.select(\"#current_movie > option \")\n"
   ]
  },
  {
   "cell_type": "markdown",
   "metadata": {},
   "source": [
    "# 웹 크롤링 하려는 페이지 설정"
   ]
  },
  {
   "cell_type": "code",
   "execution_count": 3,
   "metadata": {},
   "outputs": [],
   "source": [
    "value_list = []"
   ]
  },
  {
   "cell_type": "markdown",
   "metadata": {},
   "source": [
    "영화 코드 리스트 "
   ]
  },
  {
   "cell_type": "code",
   "execution_count": 4,
   "metadata": {},
   "outputs": [],
   "source": [
    "for num in range (0, len(code)):\n",
    "    if code[num].get('value') != None:\n",
    "        value_list.append(code[num].get('value'))"
   ]
  },
  {
   "cell_type": "markdown",
   "metadata": {},
   "source": [
    "# 영화 코드 리스트 추출"
   ]
  },
  {
   "cell_type": "code",
   "execution_count": 5,
   "metadata": {},
   "outputs": [],
   "source": [
    "data=[]"
   ]
  },
  {
   "cell_type": "markdown",
   "metadata": {},
   "source": [
    " 영화 평점, 리뷰, 리뷰 날짜 리스트"
   ]
  },
  {
   "cell_type": "code",
   "execution_count": 6,
   "metadata": {},
   "outputs": [],
   "source": [
    "for i in range(10001,200000):\n",
    "    url = \"https://movie.naver.com/movie/point/af/list.nhn?st=mcode&sword=\"\n",
    "    code = str(i)\n",
    "    And = \"&target=after&page=\""
   ]
  },
  {
   "cell_type": "markdown",
   "metadata": {},
   "source": [
    "현재 상영중인 영화만 추출시 데이터량이 적어 임의로 10001부터 200000 영화 코드 부여 "
   ]
  },
  {
   "cell_type": "markdown",
   "metadata": {},
   "source": [
    "# 영화 코드를 이용해 평점 밀 리뷰 리스트 출력 할 기본 url 설정"
   ]
  },
  {
   "cell_type": "code",
   "execution_count": 7,
   "metadata": {},
   "outputs": [],
   "source": [
    "    for i in range(1,1000):\n",
    "        link = url + code + And\n",
    "        page = str(i)\n",
    "        link += page\n",
    "        res = req.urlopen(link)\n",
    "        soup = BeautifulSoup(res, \"html.parser\")\n",
    "        point = soup.find_all('td', {'class': 'point'})\n",
    "        content = soup.find_all('td', {'class': 'title'})\n",
    "\n",
    "        date = soup.find_all(text=re.compile('^[0-9][0-9]\\.[0-9][0-9]\\.[0-9][0-9]'))"
   ]
  },
  {
   "cell_type": "markdown",
   "metadata": {},
   "source": [
    "임의로 페이지 번호 1~1000 으로 설정 영화별로 리뷰 추출 하기 위한 코드 "
   ]
  },
  {
   "cell_type": "code",
   "execution_count": 8,
   "metadata": {},
   "outputs": [],
   "source": [
    "        for i, j, k in zip(point, content, date):\n",
    "\n",
    "            temp = j.text[0:-3]\n",
    "            temp = temp.strip('\\n\\t')\n",
    "            temp = temp.split('\\n')\n",
    "            list = [i.text, temp[0], temp[1], str(k)]\n",
    "\n",
    "            if list in data:\n",
    "\n",
    "                break\n",
    "            else:\n",
    "                data.append(list)\n"
   ]
  },
  {
   "cell_type": "markdown",
   "metadata": {},
   "source": [
    "페이지 별로 평점, 리뷰, 날짜 추출하여 list로 만들어 data에 추가.  \n",
    "data에 list가 있을 경우 중단."
   ]
  },
  {
   "cell_type": "code",
   "execution_count": 9,
   "metadata": {},
   "outputs": [
    {
     "ename": "IndentationError",
     "evalue": "unexpected indent (<ipython-input-9-4b1fa2e912bd>, line 3)",
     "output_type": "error",
     "traceback": [
      "\u001b[1;36m  File \u001b[1;32m\"<ipython-input-9-4b1fa2e912bd>\"\u001b[1;36m, line \u001b[1;32m3\u001b[0m\n\u001b[1;33m    result.to_csv('movie_review_list.csv', encoding='utf-8')\u001b[0m\n\u001b[1;37m    ^\u001b[0m\n\u001b[1;31mIndentationError\u001b[0m\u001b[1;31m:\u001b[0m unexpected indent\n"
     ]
    }
   ],
   "source": [
    "result = pd.DataFrame(data)\n",
    "\n",
    "    result.to_csv('movie_review_list.csv', encoding='utf-8')"
   ]
  },
  {
   "cell_type": "markdown",
   "metadata": {},
   "source": [
    "data를 DataFrame으로 묶어 movie_review_list에 저장"
   ]
  },
  {
   "cell_type": "code",
   "execution_count": null,
   "metadata": {},
   "outputs": [],
   "source": []
  }
 ],
 "metadata": {
  "kernelspec": {
   "display_name": "Python 3",
   "language": "python",
   "name": "python3"
  },
  "language_info": {
   "codemirror_mode": {
    "name": "ipython",
    "version": 3
   },
   "file_extension": ".py",
   "mimetype": "text/x-python",
   "name": "python",
   "nbconvert_exporter": "python",
   "pygments_lexer": "ipython3",
   "version": "3.7.3"
  }
 },
 "nbformat": 4,
 "nbformat_minor": 2
}
