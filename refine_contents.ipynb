{
 "cells": [
  {
   "cell_type": "markdown",
   "metadata": {},
   "source": [
    "# contents 컬럼 정제\n",
    " -  \\< span \\> 태그 포함된 부분 삭제\n",
    " -  한글을 제외한 문자 삭제(영어, 숫자, 특수기호)"
   ]
  },
  {
   "cell_type": "code",
   "execution_count": 13,
   "metadata": {},
   "outputs": [],
   "source": [
    "import pandas as pd\n",
    "import re"
   ]
  },
  {
   "cell_type": "code",
   "execution_count": 33,
   "metadata": {},
   "outputs": [
    {
     "name": "stdout",
     "output_type": "stream",
     "text": [
      "           movie                                           contents  score\n",
      "0         브로큰 서클  ㅡ저 송효정이라는 영화 평론가 처럼 대충 꼬리표 식으로 달고서 5점을 매기는 일은 ...     10\n",
      "1         브로큰 서클  몸에 새겨도 영원치 않고, 이름을 바꾸어도 변화되지 않을 때, 현실주의자는 현재를 ...     10\n",
      "2         브로큰 서클  원스이후 최고의 음악드라마를 만났다. 10점을 주어도 아깝지 않다. 이새벽에 일어나...      9\n",
      "3         브로큰 서클                                    가슴이 아팠지만 아름다웠다.      9\n",
      "4         브로큰 서클                        간만에 볼만한 영화라 반가운 마음이 먼저 드네요.     10\n",
      "...          ...                                                ...    ...\n",
      "12766350  브로큰 서클                              영화 망할만 하네 존나 핵노잼이다 진짜      1\n",
      "12766351  브로큰 서클  심정은 알겠는데... 너무 슬픔을 강요하는게 짜증난다. 또한 중구난방 플래시 백의 ...      6\n",
      "12766352  브로큰 서클             슬퍼서 눈물도 많이 흘렸으나 재미는 없는편이고 써있는 줄거리가 전부.      7\n",
      "12766353  브로큰 서클                                      삐료! 정말화가난다! !      1\n",
      "12766354  브로큰 서클                   맨날 울고불고 꼭 누구 하나 죽고.. 뻔한 구닥다리 방화.      1\n",
      "\n",
      "[12766355 rows x 3 columns]\n"
     ]
    }
   ],
   "source": [
    "df = pd.read_csv('final_data.csv')\n",
    "pattTag = re.compile('<span[^>]+>.*?</span>')    # span 태그 없애기\n",
    "pattNoneChar = re.compile('[^가-힣 ]*')          # 한글제외 다 제거\n",
    "data = []\n",
    "print(df)"
   ]
  },
  {
   "cell_type": "code",
   "execution_count": 28,
   "metadata": {},
   "outputs": [],
   "source": [
    "for j in df.contents:\n",
    "    j = re.sub(pattTag, '', j)\n",
    "    j = re.sub(pattNoneChar, '',j)\n",
    "    data.append(j)"
   ]
  },
  {
   "cell_type": "code",
   "execution_count": 29,
   "metadata": {},
   "outputs": [],
   "source": [
    "df.contents = data"
   ]
  },
  {
   "cell_type": "code",
   "execution_count": 30,
   "metadata": {},
   "outputs": [],
   "source": [
    "df.to_csv('sample02.csv', index=False)"
   ]
  },
  {
   "cell_type": "code",
   "execution_count": null,
   "metadata": {},
   "outputs": [],
   "source": []
  }
 ],
 "metadata": {
  "kernelspec": {
   "display_name": "Python 3",
   "language": "python",
   "name": "python3"
  },
  "language_info": {
   "codemirror_mode": {
    "name": "ipython",
    "version": 3
   },
   "file_extension": ".py",
   "mimetype": "text/x-python",
   "name": "python",
   "nbconvert_exporter": "python",
   "pygments_lexer": "ipython3",
   "version": "3.7.3"
  }
 },
 "nbformat": 4,
 "nbformat_minor": 2
}
